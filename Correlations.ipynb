{
 "cells": [
  {
   "cell_type": "markdown",
   "id": "8b2720c7",
   "metadata": {},
   "source": [
    "## Импорт данных"
   ]
  },
  {
   "cell_type": "code",
   "execution_count": 163,
   "id": "e9b0cac6",
   "metadata": {},
   "outputs": [
    {
     "data": {
      "text/html": [
       "<div>\n",
       "<style scoped>\n",
       "    .dataframe tbody tr th:only-of-type {\n",
       "        vertical-align: middle;\n",
       "    }\n",
       "\n",
       "    .dataframe tbody tr th {\n",
       "        vertical-align: top;\n",
       "    }\n",
       "\n",
       "    .dataframe thead th {\n",
       "        text-align: right;\n",
       "    }\n",
       "</style>\n",
       "<table border=\"1\" class=\"dataframe\">\n",
       "  <thead>\n",
       "    <tr style=\"text-align: right;\">\n",
       "      <th></th>\n",
       "      <th>Country</th>\n",
       "      <th>S</th>\n",
       "      <th>Population</th>\n",
       "      <th>Density</th>\n",
       "      <th>Power generation</th>\n",
       "    </tr>\n",
       "  </thead>\n",
       "  <tbody>\n",
       "    <tr>\n",
       "      <th>0</th>\n",
       "      <td>Австралия</td>\n",
       "      <td>7686850</td>\n",
       "      <td>25161000</td>\n",
       "      <td>3.273</td>\n",
       "      <td>235000</td>\n",
       "    </tr>\n",
       "    <tr>\n",
       "      <th>1</th>\n",
       "      <td>Австрия</td>\n",
       "      <td>83870</td>\n",
       "      <td>8579747</td>\n",
       "      <td>102.298</td>\n",
       "      <td>59000</td>\n",
       "    </tr>\n",
       "    <tr>\n",
       "      <th>2</th>\n",
       "      <td>Азербайджан</td>\n",
       "      <td>86600</td>\n",
       "      <td>9730500</td>\n",
       "      <td>112.361</td>\n",
       "      <td>23000</td>\n",
       "    </tr>\n",
       "    <tr>\n",
       "      <th>3</th>\n",
       "      <td>Албания</td>\n",
       "      <td>28748</td>\n",
       "      <td>2886026</td>\n",
       "      <td>100.390</td>\n",
       "      <td>4700</td>\n",
       "    </tr>\n",
       "    <tr>\n",
       "      <th>4</th>\n",
       "      <td>Алжир</td>\n",
       "      <td>2381740</td>\n",
       "      <td>40375954</td>\n",
       "      <td>16.952</td>\n",
       "      <td>60000</td>\n",
       "    </tr>\n",
       "    <tr>\n",
       "      <th>5</th>\n",
       "      <td>Ангола</td>\n",
       "      <td>1246700</td>\n",
       "      <td>25830958</td>\n",
       "      <td>20.719</td>\n",
       "      <td>9200</td>\n",
       "    </tr>\n",
       "  </tbody>\n",
       "</table>\n",
       "</div>"
      ],
      "text/plain": [
       "       Country        S  Population  Density  Power generation\n",
       "0    Австралия  7686850    25161000    3.273            235000\n",
       "1      Австрия    83870     8579747  102.298             59000\n",
       "2  Азербайджан    86600     9730500  112.361             23000\n",
       "3      Албания    28748     2886026  100.390              4700\n",
       "4        Алжир  2381740    40375954   16.952             60000\n",
       "5       Ангола  1246700    25830958   20.719              9200"
      ]
     },
     "execution_count": 163,
     "metadata": {},
     "output_type": "execute_result"
    }
   ],
   "source": [
    "# Импорт данных\n",
    "import pandas as pd\n",
    "from matplotlib import pyplot as plt\n",
    "%matplotlib inline\n",
    "import seaborn as sns\n",
    "\n",
    "df = pd.read_csv('dump.csv', delimiter=';')\n",
    "df.head(10)"
   ]
  },
  {
   "cell_type": "code",
   "execution_count": 164,
   "id": "65e64c35",
   "metadata": {},
   "outputs": [
    {
     "data": {
      "text/html": [
       "<div>\n",
       "<style scoped>\n",
       "    .dataframe tbody tr th:only-of-type {\n",
       "        vertical-align: middle;\n",
       "    }\n",
       "\n",
       "    .dataframe tbody tr th {\n",
       "        vertical-align: top;\n",
       "    }\n",
       "\n",
       "    .dataframe thead th {\n",
       "        text-align: right;\n",
       "    }\n",
       "</style>\n",
       "<table border=\"1\" class=\"dataframe\">\n",
       "  <thead>\n",
       "    <tr style=\"text-align: right;\">\n",
       "      <th></th>\n",
       "      <th>S</th>\n",
       "      <th>Population</th>\n",
       "      <th>Density</th>\n",
       "      <th>Power generation</th>\n",
       "    </tr>\n",
       "    <tr>\n",
       "      <th>Country</th>\n",
       "      <th></th>\n",
       "      <th></th>\n",
       "      <th></th>\n",
       "      <th></th>\n",
       "    </tr>\n",
       "  </thead>\n",
       "  <tbody>\n",
       "    <tr>\n",
       "      <th>Австралия</th>\n",
       "      <td>7686850</td>\n",
       "      <td>25161000</td>\n",
       "      <td>3.273</td>\n",
       "      <td>235000</td>\n",
       "    </tr>\n",
       "    <tr>\n",
       "      <th>Австрия</th>\n",
       "      <td>83870</td>\n",
       "      <td>8579747</td>\n",
       "      <td>102.298</td>\n",
       "      <td>59000</td>\n",
       "    </tr>\n",
       "    <tr>\n",
       "      <th>Азербайджан</th>\n",
       "      <td>86600</td>\n",
       "      <td>9730500</td>\n",
       "      <td>112.361</td>\n",
       "      <td>23000</td>\n",
       "    </tr>\n",
       "    <tr>\n",
       "      <th>Албания</th>\n",
       "      <td>28748</td>\n",
       "      <td>2886026</td>\n",
       "      <td>100.390</td>\n",
       "      <td>4700</td>\n",
       "    </tr>\n",
       "    <tr>\n",
       "      <th>Алжир</th>\n",
       "      <td>2381740</td>\n",
       "      <td>40375954</td>\n",
       "      <td>16.952</td>\n",
       "      <td>60000</td>\n",
       "    </tr>\n",
       "    <tr>\n",
       "      <th>Ангола</th>\n",
       "      <td>1246700</td>\n",
       "      <td>25830958</td>\n",
       "      <td>20.719</td>\n",
       "      <td>9200</td>\n",
       "    </tr>\n",
       "  </tbody>\n",
       "</table>\n",
       "</div>"
      ],
      "text/plain": [
       "                   S  Population  Density  Power generation\n",
       "Country                                                    \n",
       "Австралия    7686850    25161000    3.273            235000\n",
       "Австрия        83870     8579747  102.298             59000\n",
       "Азербайджан    86600     9730500  112.361             23000\n",
       "Албания        28748     2886026  100.390              4700\n",
       "Алжир        2381740    40375954   16.952             60000\n",
       "Ангола       1246700    25830958   20.719              9200"
      ]
     },
     "execution_count": 164,
     "metadata": {},
     "output_type": "execute_result"
    }
   ],
   "source": [
    "# Страну делаем индексом\n",
    "df.set_index('Country', inplace=True)\n",
    "df.head(10)"
   ]
  },
  {
   "cell_type": "markdown",
   "id": "c48bedc8",
   "metadata": {},
   "source": [
    "## Корреляция Пиросна"
   ]
  },
  {
   "cell_type": "code",
   "execution_count": 165,
   "id": "24ac736a",
   "metadata": {},
   "outputs": [
    {
     "data": {
      "text/html": [
       "<div>\n",
       "<style scoped>\n",
       "    .dataframe tbody tr th:only-of-type {\n",
       "        vertical-align: middle;\n",
       "    }\n",
       "\n",
       "    .dataframe tbody tr th {\n",
       "        vertical-align: top;\n",
       "    }\n",
       "\n",
       "    .dataframe thead th {\n",
       "        text-align: right;\n",
       "    }\n",
       "</style>\n",
       "<table border=\"1\" class=\"dataframe\">\n",
       "  <thead>\n",
       "    <tr style=\"text-align: right;\">\n",
       "      <th></th>\n",
       "      <th>S</th>\n",
       "      <th>Population</th>\n",
       "      <th>Density</th>\n",
       "      <th>Power generation</th>\n",
       "    </tr>\n",
       "  </thead>\n",
       "  <tbody>\n",
       "    <tr>\n",
       "      <th>S</th>\n",
       "      <td>1.00000</td>\n",
       "      <td>0.51186</td>\n",
       "      <td>-0.75914</td>\n",
       "      <td>0.94579</td>\n",
       "    </tr>\n",
       "    <tr>\n",
       "      <th>Population</th>\n",
       "      <td>0.51186</td>\n",
       "      <td>1.00000</td>\n",
       "      <td>-0.87385</td>\n",
       "      <td>0.32469</td>\n",
       "    </tr>\n",
       "    <tr>\n",
       "      <th>Density</th>\n",
       "      <td>-0.75914</td>\n",
       "      <td>-0.87385</td>\n",
       "      <td>1.00000</td>\n",
       "      <td>-0.55416</td>\n",
       "    </tr>\n",
       "    <tr>\n",
       "      <th>Power generation</th>\n",
       "      <td>0.94579</td>\n",
       "      <td>0.32469</td>\n",
       "      <td>-0.55416</td>\n",
       "      <td>1.00000</td>\n",
       "    </tr>\n",
       "  </tbody>\n",
       "</table>\n",
       "</div>"
      ],
      "text/plain": [
       "                        S  Population  Density  Power generation\n",
       "S                 1.00000     0.51186 -0.75914           0.94579\n",
       "Population        0.51186     1.00000 -0.87385           0.32469\n",
       "Density          -0.75914    -0.87385  1.00000          -0.55416\n",
       "Power generation  0.94579     0.32469 -0.55416           1.00000"
      ]
     },
     "execution_count": 165,
     "metadata": {},
     "output_type": "execute_result"
    }
   ],
   "source": [
    "pearson_correlation_matrix = df.corr(method ='pearson').round(5)\n",
    "pearson_correlation_matrix"
   ]
  },
  {
   "cell_type": "code",
   "execution_count": 166,
   "id": "963343f1",
   "metadata": {},
   "outputs": [
    {
     "data": {
      "image/png": "[encoded data removed]",
      "text/plain": [
       "<Figure size 720x720 with 2 Axes>"
      ]
     },
     "metadata": {
      "needs_background": "light"
     },
     "output_type": "display_data"
    }
   ],
   "source": [
    "plt.subplots(figsize=(10, 10))\n",
    "sns.heatmap(data=pearson_correlation_matrix, annot=True, cmap='Blues');"
   ]
  },
  {
   "cell_type": "markdown",
   "id": "e593bd68",
   "metadata": {},
   "source": [
    "## Корреляция Кендалла"
   ]
  },
  {
   "cell_type": "code",
   "execution_count": 167,
   "id": "206426c1",
   "metadata": {},
   "outputs": [
    {
     "data": {
      "text/html": [
       "<div>\n",
       "<style scoped>\n",
       "    .dataframe tbody tr th:only-of-type {\n",
       "        vertical-align: middle;\n",
       "    }\n",
       "\n",
       "    .dataframe tbody tr th {\n",
       "        vertical-align: top;\n",
       "    }\n",
       "\n",
       "    .dataframe thead th {\n",
       "        text-align: right;\n",
       "    }\n",
       "</style>\n",
       "<table border=\"1\" class=\"dataframe\">\n",
       "  <thead>\n",
       "    <tr style=\"text-align: right;\">\n",
       "      <th></th>\n",
       "      <th>S</th>\n",
       "      <th>Population</th>\n",
       "      <th>Density</th>\n",
       "      <th>Power generation</th>\n",
       "    </tr>\n",
       "  </thead>\n",
       "  <tbody>\n",
       "    <tr>\n",
       "      <th>S</th>\n",
       "      <td>1.00000</td>\n",
       "      <td>0.73333</td>\n",
       "      <td>-0.60000</td>\n",
       "      <td>0.60000</td>\n",
       "    </tr>\n",
       "    <tr>\n",
       "      <th>Population</th>\n",
       "      <td>0.73333</td>\n",
       "      <td>1.00000</td>\n",
       "      <td>-0.33333</td>\n",
       "      <td>0.33333</td>\n",
       "    </tr>\n",
       "    <tr>\n",
       "      <th>Density</th>\n",
       "      <td>-0.60000</td>\n",
       "      <td>-0.33333</td>\n",
       "      <td>1.00000</td>\n",
       "      <td>-0.46667</td>\n",
       "    </tr>\n",
       "    <tr>\n",
       "      <th>Power generation</th>\n",
       "      <td>0.60000</td>\n",
       "      <td>0.33333</td>\n",
       "      <td>-0.46667</td>\n",
       "      <td>1.00000</td>\n",
       "    </tr>\n",
       "  </tbody>\n",
       "</table>\n",
       "</div>"
      ],
      "text/plain": [
       "                        S  Population  Density  Power generation\n",
       "S                 1.00000     0.73333 -0.60000           0.60000\n",
       "Population        0.73333     1.00000 -0.33333           0.33333\n",
       "Density          -0.60000    -0.33333  1.00000          -0.46667\n",
       "Power generation  0.60000     0.33333 -0.46667           1.00000"
      ]
     },
     "execution_count": 167,
     "metadata": {},
     "output_type": "execute_result"
    }
   ],
   "source": [
    "kendall_correlation_matrix = df.corr(method ='kendall').round(5)\n",
    "kendall_correlation_matrix"
   ]
  },
  {
   "cell_type": "code",
   "execution_count": 168,
   "id": "215ab0e5",
   "metadata": {},
   "outputs": [
    {
     "data": {
      "image/png": "[encoded data removed]",
      "text/plain": [
       "<Figure size 720x720 with 2 Axes>"
      ]
     },
     "metadata": {
      "needs_background": "light"
     },
     "output_type": "display_data"
    }
   ],
   "source": [
    "plt.subplots(figsize=(10, 10))\n",
    "sns.heatmap(data=kendall_correlation_matrix, annot=True, cmap='Greens');"
   ]
  },
  {
   "cell_type": "markdown",
   "id": "bc3961e7",
   "metadata": {},
   "source": [
    "## Корреляция Спирмена"
   ]
  },
  {
   "cell_type": "code",
   "execution_count": 169,
   "id": "78de7c67",
   "metadata": {},
   "outputs": [
    {
     "data": {
      "text/html": [
       "<div>\n",
       "<style scoped>\n",
       "    .dataframe tbody tr th:only-of-type {\n",
       "        vertical-align: middle;\n",
       "    }\n",
       "\n",
       "    .dataframe tbody tr th {\n",
       "        vertical-align: top;\n",
       "    }\n",
       "\n",
       "    .dataframe thead th {\n",
       "        text-align: right;\n",
       "    }\n",
       "</style>\n",
       "<table border=\"1\" class=\"dataframe\">\n",
       "  <thead>\n",
       "    <tr style=\"text-align: right;\">\n",
       "      <th></th>\n",
       "      <th>S</th>\n",
       "      <th>Population</th>\n",
       "      <th>Density</th>\n",
       "      <th>Power generation</th>\n",
       "    </tr>\n",
       "  </thead>\n",
       "  <tbody>\n",
       "    <tr>\n",
       "      <th>S</th>\n",
       "      <td>1.00000</td>\n",
       "      <td>0.82857</td>\n",
       "      <td>-0.77143</td>\n",
       "      <td>0.77143</td>\n",
       "    </tr>\n",
       "    <tr>\n",
       "      <th>Population</th>\n",
       "      <td>0.82857</td>\n",
       "      <td>1.00000</td>\n",
       "      <td>-0.60000</td>\n",
       "      <td>0.48571</td>\n",
       "    </tr>\n",
       "    <tr>\n",
       "      <th>Density</th>\n",
       "      <td>-0.77143</td>\n",
       "      <td>-0.60000</td>\n",
       "      <td>1.00000</td>\n",
       "      <td>-0.54286</td>\n",
       "    </tr>\n",
       "    <tr>\n",
       "      <th>Power generation</th>\n",
       "      <td>0.77143</td>\n",
       "      <td>0.48571</td>\n",
       "      <td>-0.54286</td>\n",
       "      <td>1.00000</td>\n",
       "    </tr>\n",
       "  </tbody>\n",
       "</table>\n",
       "</div>"
      ],
      "text/plain": [
       "                        S  Population  Density  Power generation\n",
       "S                 1.00000     0.82857 -0.77143           0.77143\n",
       "Population        0.82857     1.00000 -0.60000           0.48571\n",
       "Density          -0.77143    -0.60000  1.00000          -0.54286\n",
       "Power generation  0.77143     0.48571 -0.54286           1.00000"
      ]
     },
     "execution_count": 169,
     "metadata": {},
     "output_type": "execute_result"
    }
   ],
   "source": [
    "spearman_correlation_matrix = df.corr(method ='spearman').round(5)\n",
    "spearman_correlation_matrix"
   ]
  },
  {
   "cell_type": "code",
   "execution_count": 170,
   "id": "c597f368",
   "metadata": {},
   "outputs": [
    {
     "data": {
      "image/png": "[encoded data removed]",
      "text/plain": [
       "<Figure size 720x720 with 2 Axes>"
      ]
     },
     "metadata": {
      "needs_background": "light"
     },
     "output_type": "display_data"
    }
   ],
   "source": [
    "plt.subplots(figsize=(10, 10))\n",
    "sns.heatmap(data=spearman_correlation_matrix, annot=True, cmap='PiYG');"
   ]
  },
  {
   "cell_type": "markdown",
   "id": "c48a8540",
   "metadata": {},
   "source": [
    "## Корреляция Кендалла без библиотек"
   ]
  },
  {
   "cell_type": "code",
   "execution_count": 171,
   "id": "652aebda",
   "metadata": {},
   "outputs": [],
   "source": [
    "def calc_corr(x, y):\n",
    "    n = x.size\n",
    "    # Сортируем по возрастанию x\n",
    "    for i in range(n):\n",
    "        for j in range(n - i - 1):\n",
    "            if x[j] > x[j + 1]:\n",
    "                x[j], x[j + 1] = x[j + 1], x[j]\n",
    "                y[j], y[j + 1] = y[j + 1], y[j]\n",
    "    \n",
    "    # Вычисление рангов y\n",
    "    z = np.zeros(n)\n",
    "    for i in range(n):\n",
    "        z[i] = len([y[j] for j in range(n) if y[i] > y[j]]) + 1\n",
    "    \n",
    "    p = 0\n",
    "    for i in range(n):\n",
    "        for j in range(i + 1, n):\n",
    "            if z[i] < z[j]:\n",
    "                p += 1\n",
    "    \n",
    "    return round(4 * p / (n * (n - 1)) - 1, 5)"
   ]
  },
  {
   "cell_type": "code",
   "execution_count": 172,
   "id": "10868f3e",
   "metadata": {},
   "outputs": [
    {
     "name": "stdout",
     "output_type": "stream",
     "text": [
      "[[ 1.       0.73333 -0.6      0.6    ]\n",
      " [ 0.73333  1.      -0.33333  0.33333]\n",
      " [-0.6     -0.33333  1.      -0.46667]\n",
      " [ 0.6      0.33333 -0.46667  1.     ]]\n"
     ]
    }
   ],
   "source": [
    "n = 4\n",
    "res = np.zeros( (n, n) )\n",
    "for i in range(n):\n",
    "    for j in range(n):\n",
    "        res[i, j] = calc_corr(np.array(df.iloc[:, i]), np.array(df.iloc[:, j]))\n",
    "print(res)"
   ]
  },
  {
   "cell_type": "code",
   "execution_count": 173,
   "id": "244d9ee8",
   "metadata": {},
   "outputs": [
    {
     "data": {
      "text/html": [
       "<div>\n",
       "<style scoped>\n",
       "    .dataframe tbody tr th:only-of-type {\n",
       "        vertical-align: middle;\n",
       "    }\n",
       "\n",
       "    .dataframe tbody tr th {\n",
       "        vertical-align: top;\n",
       "    }\n",
       "\n",
       "    .dataframe thead th {\n",
       "        text-align: right;\n",
       "    }\n",
       "</style>\n",
       "<table border=\"1\" class=\"dataframe\">\n",
       "  <thead>\n",
       "    <tr style=\"text-align: right;\">\n",
       "      <th></th>\n",
       "      <th>S</th>\n",
       "      <th>Population</th>\n",
       "      <th>Density</th>\n",
       "      <th>Power generation</th>\n",
       "    </tr>\n",
       "  </thead>\n",
       "  <tbody>\n",
       "    <tr>\n",
       "      <th>S</th>\n",
       "      <td>1.00000</td>\n",
       "      <td>0.73333</td>\n",
       "      <td>-0.60000</td>\n",
       "      <td>0.60000</td>\n",
       "    </tr>\n",
       "    <tr>\n",
       "      <th>Population</th>\n",
       "      <td>0.73333</td>\n",
       "      <td>1.00000</td>\n",
       "      <td>-0.33333</td>\n",
       "      <td>0.33333</td>\n",
       "    </tr>\n",
       "    <tr>\n",
       "      <th>Density</th>\n",
       "      <td>-0.60000</td>\n",
       "      <td>-0.33333</td>\n",
       "      <td>1.00000</td>\n",
       "      <td>-0.46667</td>\n",
       "    </tr>\n",
       "    <tr>\n",
       "      <th>Power generation</th>\n",
       "      <td>0.60000</td>\n",
       "      <td>0.33333</td>\n",
       "      <td>-0.46667</td>\n",
       "      <td>1.00000</td>\n",
       "    </tr>\n",
       "  </tbody>\n",
       "</table>\n",
       "</div>"
      ],
      "text/plain": [
       "                        S  Population  Density  Power generation\n",
       "S                 1.00000     0.73333 -0.60000           0.60000\n",
       "Population        0.73333     1.00000 -0.33333           0.33333\n",
       "Density          -0.60000    -0.33333  1.00000          -0.46667\n",
       "Power generation  0.60000     0.33333 -0.46667           1.00000"
      ]
     },
     "execution_count": 173,
     "metadata": {},
     "output_type": "execute_result"
    }
   ],
   "source": [
    "kendall_correlation_matrix"
   ]
  }
 ],
 "metadata": {
  "kernelspec": {
   "display_name": "Python 3 (ipykernel)",
   "language": "python",
   "name": "python3"
  },
  "language_info": {
   "codemirror_mode": {
    "name": "ipython",
    "version": 3
   },
   "file_extension": ".py",
   "mimetype": "text/x-python",
   "name": "python",
   "nbconvert_exporter": "python",
   "pygments_lexer": "ipython3",
   "version": "3.9.7"
  }
 },
 "nbformat": 4,
 "nbformat_minor": 5
}
