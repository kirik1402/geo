{
 "cells": [
  {
   "cell_type": "code",
   "execution_count": 1,
   "id": "twelve-excess",
   "metadata": {},
   "outputs": [],
   "source": [
    "import requests\n",
    "from selenium import webdriver\n",
    "import time\n",
    "from bs4 import BeautifulSoup\n",
    "import pandas as pd\n",
    "import geopandas as gpd\n",
    "import matplotlib.pyplot as plt\n",
    "from geopandas.tools import sjoin\n",
    "from shapely.geometry import Point"
   ]
  },
  {
   "cell_type": "code",
   "execution_count": 2,
   "id": "former-collins",
   "metadata": {},
   "outputs": [],
   "source": [
    "driver = webdriver.Chrome(executable_path=r'C:\\Users\\Alya\\Desktop\\4 курс\\ПЕ\\Selenium\\chromedriver.exe')\n",
    "driver.get(\"http://www.pogodaiklimat.ru/archive.php?id=ru&region=16\")\n",
    "time.sleep(10)"
   ]
  },
  {
   "cell_type": "markdown",
   "id": "based-grace",
   "metadata": {},
   "source": [
    "Извлечение названий метеопунктов"
   ]
  },
  {
   "cell_type": "code",
   "execution_count": 3,
   "id": "controversial-palmer",
   "metadata": {},
   "outputs": [
    {
     "name": "stdout",
     "output_type": "stream",
     "text": [
      "['Азнакаево', 'Аксубаево', 'Акташ', 'Алексеевское', 'Арск', 'Аэропорт Бегишево', 'Бавлы', 'Бегишево', 'Богатые Сабы', 'Большие Кайбицы', 'Бугульма', 'Вязовые', 'Дрожжаное', 'Елабуга', 'Казань', 'Казань аэропорт', 'Камское Устье', 'Лаишево', 'Мензелинск', 'Муслюмово', 'Отарка', 'Тетюши', 'Челны', 'Чистополь', 'Чулпаново']\n",
      "<class 'list'>\n",
      "25\n"
     ]
    }
   ],
   "source": [
    "elems=driver.find_elements_by_class_name(\"big-blue-billet__list_link\")\n",
    "stations=[]\n",
    "for elem in elems:\n",
    "    stations.append(elem.text)\n",
    "    stations2=stations[:25]\n",
    "print(stations2)\n",
    "print(type(stations2))\n",
    "print(len(stations2))"
   ]
  },
  {
   "cell_type": "markdown",
   "id": "confidential-observation",
   "metadata": {},
   "source": [
    "Извлечение ссылок на метеопункты"
   ]
  },
  {
   "cell_type": "code",
   "execution_count": 4,
   "id": "powerful-european",
   "metadata": {},
   "outputs": [
    {
     "name": "stdout",
     "output_type": "stream",
     "text": [
      "['http://www.pogodaiklimat.ru/weather.php?id=28617', 'http://www.pogodaiklimat.ru/weather.php?id=28608', 'http://www.pogodaiklimat.ru/weather.php?id=28606', 'http://www.pogodaiklimat.ru/weather.php?id=28609', 'http://www.pogodaiklimat.ru/weather.php?id=27593', 'http://www.pogodaiklimat.ru/weather.php?id=27607', 'http://www.pogodaiklimat.ru/weather.php?id=28715', 'http://www.pogodaiklimat.ru/weather.php?id=28603', 'http://www.pogodaiklimat.ru/weather.php?id=28501', 'http://www.pogodaiklimat.ru/weather.php?id=27683', 'http://www.pogodaiklimat.ru/weather.php?id=28711', 'http://www.pogodaiklimat.ru/weather.php?id=27594', 'http://www.pogodaiklimat.ru/weather.php?id=27782', 'http://www.pogodaiklimat.ru/weather.php?id=28506', 'http://www.pogodaiklimat.ru/weather.php?id=27595', 'http://www.pogodaiklimat.ru/weather.php?id=27596', 'http://www.pogodaiklimat.ru/weather.php?id=27696', 'http://www.pogodaiklimat.ru/weather.php?id=27693', 'http://www.pogodaiklimat.ru/weather.php?id=28517', 'http://www.pogodaiklimat.ru/weather.php?id=28612', 'http://www.pogodaiklimat.ru/weather.php?id=28500', 'http://www.pogodaiklimat.ru/weather.php?id=27697', 'http://www.pogodaiklimat.ru/weather.php?id=28408', 'http://www.pogodaiklimat.ru/weather.php?id=28602', 'http://www.pogodaiklimat.ru/weather.php?id=28704']\n",
      "25\n"
     ]
    }
   ],
   "source": [
    "links=[]\n",
    "elems2 = driver.find_elements_by_xpath(\"//a[@href]\")\n",
    "for elem in elems2:\n",
    "    links.append(elem.get_attribute(\"href\"))\n",
    "#print(links[22:47])\n",
    "links2=links[22:47]\n",
    "print(links2)\n",
    "print(len(links2))"
   ]
  },
  {
   "cell_type": "code",
   "execution_count": 5,
   "id": "heavy-pickup",
   "metadata": {},
   "outputs": [
    {
     "name": "stdout",
     "output_type": "stream",
     "text": [
      "[53.07, 50.78, 52.12, 50.08, 49.87, 52.09, 53.24, 52.1, 50.45, 48.18, 52.8, 48.52, 47.57, 52.05, 49.2, 49.28, 49.25, 49.53, 53.07, 53.2, 51.36, 48.78, 50.9, 50.65, 50.42]\n",
      "[54.87, 54.83, 55.05, 55.29, 56.08, 55.56, 54.41, 55.57, 56.02, 55.4, 54.63, 55.82, 54.72, 55.77, 55.73, 55.61, 55.21, 55.42, 55.72, 55.32, 55.67, 54.95, 56.28, 55.32, 54.5]\n",
      "<class 'list'>\n",
      "25\n"
     ]
    }
   ],
   "source": [
    "lon=[]\n",
    "lat=[]\n",
    "for link in links2:\n",
    "    url = str(link)\n",
    "    response = requests.get(url)\n",
    "    response.encoding = 'utf-8'\n",
    "    info = []\n",
    "    soup = BeautifulSoup(response.text, 'lxml')\n",
    "    coords = soup.find('div', class_='archive-text')\n",
    "    for coord in coords.find_all('span'):\n",
    "        info.append(coord.text)\n",
    "    lon.append(float(info[2]))\n",
    "    lat.append(float(info[1]))\n",
    "print (lon)\n",
    "print (lat)\n",
    "\n",
    "#создаём геометрию точек метеостанций\n",
    "geometry = []\n",
    "for i in range(0, len(lat)):\n",
    "    geometry.append(Point(lon[i],lat[i]))\n",
    "print(type(geometry))\n",
    "print(len(geometry))"
   ]
  },
  {
   "cell_type": "code",
   "execution_count": 6,
   "id": "imported-skating",
   "metadata": {},
   "outputs": [
    {
     "name": "stdout",
     "output_type": "stream",
     "text": [
      "7\n",
      "[7.3, 7.7, 12.2, 6.8, 13.1, 15.0, 21.3, 3.8, 12.3, 13.0, 13.9, 13.1, 9.9, 15.5, 11.0, 17.5, 12.9, 14.0, 10.2, 19.0, 13.5, 3.4, 10.8, 11.6]\n",
      "<class 'list'>\n",
      "24\n"
     ]
    }
   ],
   "source": [
    "temp=[]\n",
    "for link in links2:\n",
    "    url = str(link)\n",
    "    data = pd.read_html(url)   \n",
    "    if len(data[0].index)>1:  #создаём цикл, чтобы обойти пустые датафреймы\n",
    "        df1 = data[0]\n",
    "        df2 = data[1] \n",
    "        df_col = ['UTC', 'Дата']\n",
    "        df1.columns = df_col\n",
    "        df1.drop(axis=0, index=0, inplace=True)\n",
    "        new_col_names=df2.loc[0,:].tolist()\n",
    "        new_col_names.pop(0)\n",
    "        new_col_names.pop(0)\n",
    "        new_col_names.reverse()\n",
    "        new_col_names.append(\"Скорость ветра\")\n",
    "        new_col_names.append(\"Направление ветра\")\n",
    "        new_col_names.reverse()\n",
    "        df2.columns=new_col_names\n",
    "        df2.drop(axis=0, index=0, inplace=True)\n",
    "        df2[\"Т(С)\"]=df2[\"Т(С)\"].astype(\"float\")\n",
    "        df_all=pd.concat([df1,df2],axis=1)\n",
    "        #print (df_all)\n",
    "        latest = df_all.tail(1)\n",
    "        #print (latest)\n",
    "        value = latest.loc[:,'Т(С)']\n",
    "        temp.append(float(value))\n",
    "    else:\n",
    "        zero_el=(links2.index(link)) #узнаём индекс станций с нулевыми данными\n",
    "        print(zero_el)\n",
    "print (temp)\n",
    "print(type(temp))\n",
    "print(len(temp))"
   ]
  },
  {
   "cell_type": "code",
   "execution_count": 7,
   "id": "interested-concept",
   "metadata": {},
   "outputs": [
    {
     "name": "stdout",
     "output_type": "stream",
     "text": [
      "['Азнакаево', 'Аксубаево', 'Акташ', 'Алексеевское', 'Арск', 'Аэропорт Бегишево', 'Бавлы', 'Богатые Сабы', 'Большие Кайбицы', 'Бугульма', 'Вязовые', 'Дрожжаное', 'Елабуга', 'Казань', 'Казань аэропорт', 'Камское Устье', 'Лаишево', 'Мензелинск', 'Муслюмово', 'Отарка', 'Тетюши', 'Челны', 'Чистополь', 'Чулпаново']\n",
      "24\n"
     ]
    }
   ],
   "source": [
    "del stations2[7]\n",
    "print(stations2)\n",
    "print(len(stations2))"
   ]
  },
  {
   "cell_type": "code",
   "execution_count": 8,
   "id": "binary-positive",
   "metadata": {},
   "outputs": [
    {
     "name": "stdout",
     "output_type": "stream",
     "text": [
      "[<shapely.geometry.point.Point object at 0x000001C381E342B0>, <shapely.geometry.point.Point object at 0x000001C382AE7C40>, <shapely.geometry.point.Point object at 0x000001C381B8F1F0>, <shapely.geometry.point.Point object at 0x000001C381E341F0>, <shapely.geometry.point.Point object at 0x000001C381E34130>, <shapely.geometry.point.Point object at 0x000001C381E341C0>, <shapely.geometry.point.Point object at 0x000001C381E34250>, <shapely.geometry.point.Point object at 0x000001C381E34400>, <shapely.geometry.point.Point object at 0x000001C381E34490>, <shapely.geometry.point.Point object at 0x000001C381E344F0>, <shapely.geometry.point.Point object at 0x000001C381E34550>, <shapely.geometry.point.Point object at 0x000001C381E345B0>, <shapely.geometry.point.Point object at 0x000001C381E34610>, <shapely.geometry.point.Point object at 0x000001C381E34670>, <shapely.geometry.point.Point object at 0x000001C381E346D0>, <shapely.geometry.point.Point object at 0x000001C381E34730>, <shapely.geometry.point.Point object at 0x000001C381E34790>, <shapely.geometry.point.Point object at 0x000001C381E347F0>, <shapely.geometry.point.Point object at 0x000001C381E34850>, <shapely.geometry.point.Point object at 0x000001C381E348B0>, <shapely.geometry.point.Point object at 0x000001C381E34910>, <shapely.geometry.point.Point object at 0x000001C381E34970>, <shapely.geometry.point.Point object at 0x000001C381E349D0>, <shapely.geometry.point.Point object at 0x000001C381E34A30>]\n",
      "24\n"
     ]
    }
   ],
   "source": [
    "del geometry[7]\n",
    "print(geometry)\n",
    "print(len(geometry))"
   ]
  },
  {
   "cell_type": "code",
   "execution_count": 9,
   "id": "dress-machine",
   "metadata": {},
   "outputs": [
    {
     "name": "stderr",
     "output_type": "stream",
     "text": [
      "<ipython-input-9-50244a940b98>:6: FutureWarning: Assigning CRS to a GeoDataFrame without a geometry column is now deprecated and will not be supported in the future.\n",
      "  gdf = gpd.GeoDataFrame(dict_df, crs=\"EPSG:4326\")\n"
     ]
    }
   ],
   "source": [
    "dict_df = {}\n",
    "dict_df['STATIONS'] = stations2\n",
    "dict_df['TEMPERATURE'] = temp\n",
    "dict_df['GEOMETRY'] = geometry\n",
    "\n",
    "gdf = gpd.GeoDataFrame(dict_df, crs=\"EPSG:4326\")"
   ]
  },
  {
   "cell_type": "code",
   "execution_count": 10,
   "id": "committed-charter",
   "metadata": {},
   "outputs": [
    {
     "data": {
      "text/html": [
       "<div>\n",
       "<style scoped>\n",
       "    .dataframe tbody tr th:only-of-type {\n",
       "        vertical-align: middle;\n",
       "    }\n",
       "\n",
       "    .dataframe tbody tr th {\n",
       "        vertical-align: top;\n",
       "    }\n",
       "\n",
       "    .dataframe thead th {\n",
       "        text-align: right;\n",
       "    }\n",
       "</style>\n",
       "<table border=\"1\" class=\"dataframe\">\n",
       "  <thead>\n",
       "    <tr style=\"text-align: right;\">\n",
       "      <th></th>\n",
       "      <th>STATIONS</th>\n",
       "      <th>TEMPERATURE</th>\n",
       "      <th>GEOMETRY</th>\n",
       "    </tr>\n",
       "  </thead>\n",
       "  <tbody>\n",
       "    <tr>\n",
       "      <th>0</th>\n",
       "      <td>Азнакаево</td>\n",
       "      <td>7.3</td>\n",
       "      <td>POINT (53.07 54.87)</td>\n",
       "    </tr>\n",
       "    <tr>\n",
       "      <th>1</th>\n",
       "      <td>Аксубаево</td>\n",
       "      <td>7.7</td>\n",
       "      <td>POINT (50.78 54.83)</td>\n",
       "    </tr>\n",
       "    <tr>\n",
       "      <th>2</th>\n",
       "      <td>Акташ</td>\n",
       "      <td>12.2</td>\n",
       "      <td>POINT (52.12 55.05)</td>\n",
       "    </tr>\n",
       "    <tr>\n",
       "      <th>3</th>\n",
       "      <td>Алексеевское</td>\n",
       "      <td>6.8</td>\n",
       "      <td>POINT (50.08 55.29)</td>\n",
       "    </tr>\n",
       "    <tr>\n",
       "      <th>4</th>\n",
       "      <td>Арск</td>\n",
       "      <td>13.1</td>\n",
       "      <td>POINT (49.87 56.08)</td>\n",
       "    </tr>\n",
       "    <tr>\n",
       "      <th>5</th>\n",
       "      <td>Аэропорт Бегишево</td>\n",
       "      <td>15.0</td>\n",
       "      <td>POINT (52.09 55.56)</td>\n",
       "    </tr>\n",
       "    <tr>\n",
       "      <th>6</th>\n",
       "      <td>Бавлы</td>\n",
       "      <td>21.3</td>\n",
       "      <td>POINT (53.24 54.41)</td>\n",
       "    </tr>\n",
       "    <tr>\n",
       "      <th>7</th>\n",
       "      <td>Богатые Сабы</td>\n",
       "      <td>3.8</td>\n",
       "      <td>POINT (50.45 56.02)</td>\n",
       "    </tr>\n",
       "    <tr>\n",
       "      <th>8</th>\n",
       "      <td>Большие Кайбицы</td>\n",
       "      <td>12.3</td>\n",
       "      <td>POINT (48.18 55.4)</td>\n",
       "    </tr>\n",
       "    <tr>\n",
       "      <th>9</th>\n",
       "      <td>Бугульма</td>\n",
       "      <td>13.0</td>\n",
       "      <td>POINT (52.8 54.63)</td>\n",
       "    </tr>\n",
       "    <tr>\n",
       "      <th>10</th>\n",
       "      <td>Вязовые</td>\n",
       "      <td>13.9</td>\n",
       "      <td>POINT (48.52 55.82)</td>\n",
       "    </tr>\n",
       "    <tr>\n",
       "      <th>11</th>\n",
       "      <td>Дрожжаное</td>\n",
       "      <td>13.1</td>\n",
       "      <td>POINT (47.57 54.72)</td>\n",
       "    </tr>\n",
       "    <tr>\n",
       "      <th>12</th>\n",
       "      <td>Елабуга</td>\n",
       "      <td>9.9</td>\n",
       "      <td>POINT (52.05 55.77)</td>\n",
       "    </tr>\n",
       "    <tr>\n",
       "      <th>13</th>\n",
       "      <td>Казань</td>\n",
       "      <td>15.5</td>\n",
       "      <td>POINT (49.2 55.73)</td>\n",
       "    </tr>\n",
       "    <tr>\n",
       "      <th>14</th>\n",
       "      <td>Казань аэропорт</td>\n",
       "      <td>11.0</td>\n",
       "      <td>POINT (49.28 55.61)</td>\n",
       "    </tr>\n",
       "    <tr>\n",
       "      <th>15</th>\n",
       "      <td>Камское Устье</td>\n",
       "      <td>17.5</td>\n",
       "      <td>POINT (49.25 55.21)</td>\n",
       "    </tr>\n",
       "    <tr>\n",
       "      <th>16</th>\n",
       "      <td>Лаишево</td>\n",
       "      <td>12.9</td>\n",
       "      <td>POINT (49.53 55.42)</td>\n",
       "    </tr>\n",
       "    <tr>\n",
       "      <th>17</th>\n",
       "      <td>Мензелинск</td>\n",
       "      <td>14.0</td>\n",
       "      <td>POINT (53.07 55.72)</td>\n",
       "    </tr>\n",
       "    <tr>\n",
       "      <th>18</th>\n",
       "      <td>Муслюмово</td>\n",
       "      <td>10.2</td>\n",
       "      <td>POINT (53.2 55.32)</td>\n",
       "    </tr>\n",
       "    <tr>\n",
       "      <th>19</th>\n",
       "      <td>Отарка</td>\n",
       "      <td>19.0</td>\n",
       "      <td>POINT (51.36 55.67)</td>\n",
       "    </tr>\n",
       "    <tr>\n",
       "      <th>20</th>\n",
       "      <td>Тетюши</td>\n",
       "      <td>13.5</td>\n",
       "      <td>POINT (48.78 54.95)</td>\n",
       "    </tr>\n",
       "    <tr>\n",
       "      <th>21</th>\n",
       "      <td>Челны</td>\n",
       "      <td>3.4</td>\n",
       "      <td>POINT (50.9 56.28)</td>\n",
       "    </tr>\n",
       "    <tr>\n",
       "      <th>22</th>\n",
       "      <td>Чистополь</td>\n",
       "      <td>10.8</td>\n",
       "      <td>POINT (50.65 55.32)</td>\n",
       "    </tr>\n",
       "    <tr>\n",
       "      <th>23</th>\n",
       "      <td>Чулпаново</td>\n",
       "      <td>11.6</td>\n",
       "      <td>POINT (50.42 54.5)</td>\n",
       "    </tr>\n",
       "  </tbody>\n",
       "</table>\n",
       "</div>"
      ],
      "text/plain": [
       "             STATIONS  TEMPERATURE             GEOMETRY\n",
       "0           Азнакаево          7.3  POINT (53.07 54.87)\n",
       "1           Аксубаево          7.7  POINT (50.78 54.83)\n",
       "2               Акташ         12.2  POINT (52.12 55.05)\n",
       "3        Алексеевское          6.8  POINT (50.08 55.29)\n",
       "4                Арск         13.1  POINT (49.87 56.08)\n",
       "5   Аэропорт Бегишево         15.0  POINT (52.09 55.56)\n",
       "6               Бавлы         21.3  POINT (53.24 54.41)\n",
       "7        Богатые Сабы          3.8  POINT (50.45 56.02)\n",
       "8     Большие Кайбицы         12.3   POINT (48.18 55.4)\n",
       "9            Бугульма         13.0   POINT (52.8 54.63)\n",
       "10            Вязовые         13.9  POINT (48.52 55.82)\n",
       "11          Дрожжаное         13.1  POINT (47.57 54.72)\n",
       "12            Елабуга          9.9  POINT (52.05 55.77)\n",
       "13             Казань         15.5   POINT (49.2 55.73)\n",
       "14    Казань аэропорт         11.0  POINT (49.28 55.61)\n",
       "15      Камское Устье         17.5  POINT (49.25 55.21)\n",
       "16            Лаишево         12.9  POINT (49.53 55.42)\n",
       "17         Мензелинск         14.0  POINT (53.07 55.72)\n",
       "18          Муслюмово         10.2   POINT (53.2 55.32)\n",
       "19             Отарка         19.0  POINT (51.36 55.67)\n",
       "20             Тетюши         13.5  POINT (48.78 54.95)\n",
       "21              Челны          3.4   POINT (50.9 56.28)\n",
       "22          Чистополь         10.8  POINT (50.65 55.32)\n",
       "23          Чулпаново         11.6   POINT (50.42 54.5)"
      ]
     },
     "execution_count": 10,
     "metadata": {},
     "output_type": "execute_result"
    }
   ],
   "source": [
    "gdf"
   ]
  },
  {
   "cell_type": "code",
   "execution_count": 11,
   "id": "entertaining-somewhere",
   "metadata": {},
   "outputs": [],
   "source": [
    "shp = gpd.read_file('Tatarstan.shp')"
   ]
  },
  {
   "cell_type": "code",
   "execution_count": 12,
   "id": "fresh-income",
   "metadata": {},
   "outputs": [
    {
     "ename": "AttributeError",
     "evalue": "'str' object has no attribute 'is_geographic'",
     "output_type": "error",
     "traceback": [
      "\u001b[1;31m---------------------------------------------------------------------------\u001b[0m",
      "\u001b[1;31mAttributeError\u001b[0m                            Traceback (most recent call last)",
      "\u001b[1;32m<ipython-input-12-777af081676c>\u001b[0m in \u001b[0;36m<module>\u001b[1;34m\u001b[0m\n\u001b[0;32m      1\u001b[0m \u001b[0mfig\u001b[0m\u001b[1;33m,\u001b[0m \u001b[0max1\u001b[0m \u001b[1;33m=\u001b[0m \u001b[0mplt\u001b[0m\u001b[1;33m.\u001b[0m\u001b[0msubplots\u001b[0m\u001b[1;33m(\u001b[0m\u001b[1;36m1\u001b[0m\u001b[1;33m,\u001b[0m \u001b[0mfigsize\u001b[0m \u001b[1;33m=\u001b[0m \u001b[1;33m(\u001b[0m\u001b[1;36m30\u001b[0m\u001b[1;33m,\u001b[0m\u001b[1;36m16\u001b[0m\u001b[1;33m)\u001b[0m\u001b[1;33m)\u001b[0m\u001b[1;33m\u001b[0m\u001b[1;33m\u001b[0m\u001b[0m\n\u001b[0;32m      2\u001b[0m \u001b[0mshp\u001b[0m\u001b[1;33m.\u001b[0m\u001b[0mplot\u001b[0m\u001b[1;33m(\u001b[0m\u001b[0max\u001b[0m\u001b[1;33m=\u001b[0m\u001b[0max1\u001b[0m\u001b[1;33m)\u001b[0m\u001b[1;33m\u001b[0m\u001b[1;33m\u001b[0m\u001b[0m\n\u001b[1;32m----> 3\u001b[1;33m \u001b[0mst\u001b[0m \u001b[1;33m=\u001b[0m \u001b[0mgdf\u001b[0m\u001b[1;33m.\u001b[0m\u001b[0mplot\u001b[0m\u001b[1;33m(\u001b[0m\u001b[0max\u001b[0m\u001b[1;33m=\u001b[0m\u001b[0max1\u001b[0m\u001b[1;33m)\u001b[0m\u001b[1;33m\u001b[0m\u001b[1;33m\u001b[0m\u001b[0m\n\u001b[0m\u001b[0;32m      4\u001b[0m \u001b[1;31m#gdf.apply(lambda x: st.annotate(s=x.TEMPERATURE, xy=x.geometry.coords[0], xytext=[0,-15], textcoords='offset points', ha='center'),axis=1);\u001b[0m\u001b[1;33m\u001b[0m\u001b[1;33m\u001b[0m\u001b[1;33m\u001b[0m\u001b[0m\n\u001b[0;32m      5\u001b[0m \u001b[1;31m#gdf.apply(lambda x: st.annotate(s=x.STATIONS, xy=x.geometry.coords[0], xytext=[0,10], textcoords='offset points', ha='center'),axis=1);\u001b[0m\u001b[1;33m\u001b[0m\u001b[1;33m\u001b[0m\u001b[1;33m\u001b[0m\u001b[0m\n",
      "\u001b[1;32m~\\anaconda3\\envs\\Nelly_2\\lib\\site-packages\\geopandas\\geodataframe.py\u001b[0m in \u001b[0;36mplot\u001b[1;34m(self, *args, **kwargs)\u001b[0m\n\u001b[0;32m    919\u001b[0m         \u001b[1;32mfrom\u001b[0m \u001b[0mthere\u001b[0m\u001b[1;33m.\u001b[0m\u001b[1;33m\u001b[0m\u001b[1;33m\u001b[0m\u001b[0m\n\u001b[0;32m    920\u001b[0m         \"\"\"\n\u001b[1;32m--> 921\u001b[1;33m         \u001b[1;32mreturn\u001b[0m \u001b[0mplot_dataframe\u001b[0m\u001b[1;33m(\u001b[0m\u001b[0mself\u001b[0m\u001b[1;33m,\u001b[0m \u001b[1;33m*\u001b[0m\u001b[0margs\u001b[0m\u001b[1;33m,\u001b[0m \u001b[1;33m**\u001b[0m\u001b[0mkwargs\u001b[0m\u001b[1;33m)\u001b[0m\u001b[1;33m\u001b[0m\u001b[1;33m\u001b[0m\u001b[0m\n\u001b[0m\u001b[0;32m    922\u001b[0m \u001b[1;33m\u001b[0m\u001b[0m\n\u001b[0;32m    923\u001b[0m     \u001b[0mplot\u001b[0m\u001b[1;33m.\u001b[0m\u001b[0m__doc__\u001b[0m \u001b[1;33m=\u001b[0m \u001b[0mplot_dataframe\u001b[0m\u001b[1;33m.\u001b[0m\u001b[0m__doc__\u001b[0m\u001b[1;33m\u001b[0m\u001b[1;33m\u001b[0m\u001b[0m\n",
      "\u001b[1;32m~\\anaconda3\\envs\\Nelly_2\\lib\\site-packages\\geopandas\\plotting.py\u001b[0m in \u001b[0;36mplot_dataframe\u001b[1;34m(df, column, cmap, color, ax, cax, categorical, legend, scheme, k, vmin, vmax, markersize, figsize, legend_kwds, categories, classification_kwds, missing_kwds, aspect, **style_kwds)\u001b[0m\n\u001b[0;32m    590\u001b[0m \u001b[1;33m\u001b[0m\u001b[0m\n\u001b[0;32m    591\u001b[0m     \u001b[1;32mif\u001b[0m \u001b[0maspect\u001b[0m \u001b[1;33m==\u001b[0m \u001b[1;34m\"auto\"\u001b[0m\u001b[1;33m:\u001b[0m\u001b[1;33m\u001b[0m\u001b[1;33m\u001b[0m\u001b[0m\n\u001b[1;32m--> 592\u001b[1;33m         \u001b[1;32mif\u001b[0m \u001b[0mdf\u001b[0m\u001b[1;33m.\u001b[0m\u001b[0mcrs\u001b[0m \u001b[1;32mand\u001b[0m \u001b[0mdf\u001b[0m\u001b[1;33m.\u001b[0m\u001b[0mcrs\u001b[0m\u001b[1;33m.\u001b[0m\u001b[0mis_geographic\u001b[0m\u001b[1;33m:\u001b[0m\u001b[1;33m\u001b[0m\u001b[1;33m\u001b[0m\u001b[0m\n\u001b[0m\u001b[0;32m    593\u001b[0m             \u001b[0mbounds\u001b[0m \u001b[1;33m=\u001b[0m \u001b[0mdf\u001b[0m\u001b[1;33m.\u001b[0m\u001b[0mtotal_bounds\u001b[0m\u001b[1;33m\u001b[0m\u001b[1;33m\u001b[0m\u001b[0m\n\u001b[0;32m    594\u001b[0m             \u001b[0my_coord\u001b[0m \u001b[1;33m=\u001b[0m \u001b[0mnp\u001b[0m\u001b[1;33m.\u001b[0m\u001b[0mmean\u001b[0m\u001b[1;33m(\u001b[0m\u001b[1;33m[\u001b[0m\u001b[0mbounds\u001b[0m\u001b[1;33m[\u001b[0m\u001b[1;36m1\u001b[0m\u001b[1;33m]\u001b[0m\u001b[1;33m,\u001b[0m \u001b[0mbounds\u001b[0m\u001b[1;33m[\u001b[0m\u001b[1;36m3\u001b[0m\u001b[1;33m]\u001b[0m\u001b[1;33m]\u001b[0m\u001b[1;33m)\u001b[0m\u001b[1;33m\u001b[0m\u001b[1;33m\u001b[0m\u001b[0m\n",
      "\u001b[1;31mAttributeError\u001b[0m: 'str' object has no attribute 'is_geographic'"
     ]
    },
    {
     "data": {
      "image/png": "[encoded data removed]",
      "text/plain": [
       "<Figure size 2160x1152 with 1 Axes>"
      ]
     },
     "metadata": {
      "needs_background": "light"
     },
     "output_type": "display_data"
    }
   ],
   "source": [
    "fig, ax1 = plt.subplots(1, figsize = (30,16))\n",
    "shp.plot(ax=ax1)\n",
    "st = gdf.plot(ax=ax1)\n",
    "#gdf.apply(lambda x: st.annotate(s=x.TEMPERATURE, xy=x.geometry.coords[0], xytext=[0,-15], textcoords='offset points', ha='center'),axis=1);\n",
    "#gdf.apply(lambda x: st.annotate(s=x.STATIONS, xy=x.geometry.coords[0], xytext=[0,10], textcoords='offset points', ha='center'),axis=1);\n",
    "plt.title('Актуальная погода в Татарстане', fontsize=15, fontweight='bold')\n",
    "fig.savefig(str('TEMP_Dagestan'))\n",
    "plt.show();"
   ]
  },
  {
   "cell_type": "code",
   "execution_count": null,
   "id": "coral-shelf",
   "metadata": {},
   "outputs": [],
   "source": []
  },
  {
   "cell_type": "code",
   "execution_count": null,
   "id": "brave-backup",
   "metadata": {},
   "outputs": [],
   "source": []
  }
 ],
 "metadata": {
  "kernelspec": {
   "display_name": "Python 3",
   "language": "python",
   "name": "python3"
  },
  "language_info": {
   "codemirror_mode": {
    "name": "ipython",
    "version": 3
   },
   "file_extension": ".py",
   "mimetype": "text/x-python",
   "name": "python",
   "nbconvert_exporter": "python",
   "pygments_lexer": "ipython3",
   "version": "3.8.5"
  }
 },
 "nbformat": 4,
 "nbformat_minor": 5
}
